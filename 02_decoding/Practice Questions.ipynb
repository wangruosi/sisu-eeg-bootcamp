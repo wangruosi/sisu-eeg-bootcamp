{
 "cells": [
  {
   "cell_type": "markdown",
   "metadata": {},
   "source": [
    "# Practice Questions"
   ]
  },
  {
   "cell_type": "markdown",
   "metadata": {},
   "source": [
    "## 1. Check Epoch Counts\n",
    "\n",
    "Load the EEG data for all four participants and print the total number of epochs for each participant and each condition (e.g., animate vs. inanimate).\n",
    "\n",
    "Questions: Are there differences in epoch numbers between participants/conditions? Can you figure out why?"
   ]
  },
  {
   "cell_type": "markdown",
   "metadata": {},
   "source": [
    "## 2. Run Preprocessing and Decoding Analysis for All Participants\n",
    "\n",
    "You have already performed preprocessing and decoding analysis for one subject. Now, extend these analyses to the other three participants. \n",
    "\n",
    "**Bonus**: \n",
    "To streamline the process, refactor the preprocessing/decoding code into reusable functions (e.g., `preprocess_subject(subject_id)`, `run_decoding(epochs)`). and use a loop to apply these functions across all participants."
   ]
  },
  {
   "cell_type": "markdown",
   "metadata": {},
   "source": [
    "## 3. Compare Results Across Participants\n",
    "\n",
    "Compare the averaged epochs and decoding results across different participants.\n",
    "\n",
    "**Quesitons**: \n",
    "* How do the averaged brain wave patterns vary among participants? \n",
    "* How do the decoding results differ among participants?\n",
    "* What factors might contribute to the observed differences?\n"
   ]
  },
  {
   "cell_type": "markdown",
   "metadata": {},
   "source": [
    "## 4. Decoding Analysis Based on Object Size (Optional)\n",
    "\n",
    "Previously, you have run decoding analyses focusing on animacy (animate vs. inanimate). Now, conduct a decoding analysis based on object size (big vs. small) using the stimulus properties provided in `utils/ASTExEEG_exp01_stimuli.csv`.\n",
    "\n",
    "**Questions**: How does the decoding performance for size compare to that for animacy? \n"
   ]
  },
  {
   "cell_type": "markdown",
   "metadata": {},
   "source": [
    "## 5. Pair-wise Decoding Analysis (Optional)\n",
    "\n",
    "Complete the pair-wise decoding analysis that was started in our tutorial session. \n",
    "Note: Given the extensive number of pairs, this script may take a while to run (e.g., one hour for each participant). If your computer has multiple CPUs, set `n_jobs` to 4 or 6 to speed up processing. Additionally, use downsampled data to reduce computational load and time."
   ]
  },
  {
   "cell_type": "markdown",
   "metadata": {},
   "source": []
  }
 ],
 "metadata": {
  "kernelspec": {
   "display_name": "mne",
   "language": "python",
   "name": "python3"
  },
  "language_info": {
   "name": "python",
   "version": "3.12.2"
  }
 },
 "nbformat": 4,
 "nbformat_minor": 2
}
